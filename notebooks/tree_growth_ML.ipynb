{
 "cells": [
  {
   "cell_type": "markdown",
   "id": "a34acdcd",
   "metadata": {},
   "source": [
    "## Predicting Tree Growth Using 5 milliom Trees in the US"
   ]
  },
  {
   "cell_type": "markdown",
   "id": "c36f5568",
   "metadata": {},
   "source": [
    "\n",
    "\n",
    "\n",
    "\n",
    "> for reference, follow the original source [<u>Readme.md</u>](https://github.com/MrDevel0per/bio-data-analysis/blob/main/README.md) for preprocessing if you want, else pip install kagglehub and follow this."
   ]
  },
  {
   "cell_type": "markdown",
   "id": "e44afd0b-3ab6-4bb8-8ffc-c16dc3232920",
   "metadata": {},
   "source": [
    "#### Download Data from Kagglehub\n"
   ]
  },
  {
   "cell_type": "code",
   "execution_count": 2,
   "id": "d5c38205",
   "metadata": {},
   "outputs": [
    {
     "name": "stdout",
     "output_type": "stream",
     "text": [
      "Path to dataset files: ../mexwell/5m-trees-dataset\n"
     ]
    }
   ],
   "source": [
    "import kagglehub\n",
    "import os, shutil\n",
    "\n",
    "\n",
    "# Download latest version\n",
    "if not os.path.exists(\"mexwell/5m-trees-dataset\"):\n",
    "    download_path = kagglehub.dataset_download(\"mexwell/5m-trees-dataset\")\n",
    "    \n",
    "    FILEPATH = os.path.join(os.path.pardir, 'mexwell/5m-trees-dataset')\n",
    "    if not os.path.exists(FILEPATH):\n",
    "        shutil.move(download_path, FILEPATH)\n",
    "    print(\"Path to dataset files:\", FILEPATH)\n",
    "else:\n",
    "    print('\"mexwell/5m-trees-dataset\" already exists')"
   ]
  },
  {
   "cell_type": "markdown",
   "id": "354f901a",
   "metadata": {},
   "source": [
    "### Move to project directory"
   ]
  },
  {
   "cell_type": "code",
   "execution_count": 3,
   "id": "889ce2bc-b897-4265-a86a-12606ee76e88",
   "metadata": {},
   "outputs": [
    {
     "name": "stdout",
     "output_type": "stream",
     "text": [
      "Total files: 64\n",
      "\n",
      "Added Albuquerque_Final_2022-06-18.csv | size: 0.63MB\n",
      "Added Anaheim_Final_2022-06-18.csv | size: 15.04MB\n",
      "Added Arlington_Final_2022-06-18.csv | size: 2.39MB\n",
      "Added Atlanta_Final_2022-06-18.csv | size: 7.34MB\n",
      "Added AuroraCO_Final_2022-06-18.csv | size: 14.08MB\n",
      "Added Austin_Final_2022-06-18.csv | size: 1.55MB\n",
      "Added Baltimore_Final_2022-06-18.csv | size: 28.41MB\n",
      "Added Boston_Final_2022-06-18.csv | size: 0.22MB\n",
      "Added Buffalo_Final_2022-06-18.csv | size: 23.46MB\n",
      "Added CapeCoral_Final_2022-06-18.csv | size: 7.61MB\n",
      "Added ColoradoSprings_Final_2022-06-18.csv | size: 4.27MB\n",
      "Added Columbus_Final_2022-06-18.csv | size: 34.6MB\n",
      "Added Dallas_Final_2022-06-18.csv | size: 0.97MB\n",
      "Added Denver_Final_2022-06-18.csv | size: 67.09MB\n",
      "Added DesMoines_Final_2022-06-18.csv | size: 3.65MB\n",
      "Added Detroit_Final_2022-06-18.csv | size: 4.36MB\n",
      "Added Durham_Final_2022-06-18.csv | size: 3.93MB\n",
      "Added Fresno_Final_2022-06-18.csv | size: 0.96MB\n",
      "Added GardenGrove_Final_2022-06-18.csv | size: 3.99MB\n",
      "Added GrandRapids_Final_2022-06-18.csv | size: 13.53MB\n",
      "Added Greensboro_Final_2022-06-18.csv | size: 1.43MB\n",
      "Added Honolulu_Final_2022-06-18.csv | size: 3.68MB\n",
      "Added Houston_Final_2022-06-18.csv | size: 37.58MB\n",
      "Added HuntingtonBeach_Final_2022-06-18.csv | size: 11.52MB\n",
      "Added Indianapolis_Final_2022-06-18.csv | size: 15.12MB\n",
      "Added Irvine_Final_2022-06-18.csv | size: 10.28MB\n",
      "Added Jerseycity_Final_2022-06-18.csv | size: 0.11MB\n",
      "Added Knoxville_Final_2022-06-18.csv | size: 2.37MB\n",
      "Added LasVegas_Final_2022-06-18.csv | size: 9.68MB\n",
      "Added LosAngeles_Final_2022-06-18.csv | size: 143.22MB\n",
      "Added Louisville_Final_2022-06-18.csv | size: 7.47MB\n",
      "Added Madison_Final_2022-06-18.csv | size: 18.96MB\n",
      "Added Miami_Final_2022-06-18.csv | size: 0.12MB\n",
      "Added Milwaukee_Final_2022-06-18.csv | size: 6.69MB\n",
      "Added Minneapolis_Final_2022-06-18.csv | size: 45.79MB\n",
      "Added Nashville_Final_2022-06-18.csv | size: 0.35MB\n",
      "Added NewOrleans_Final_2022-06-18.csv | size: 16.78MB\n",
      "Added NewYork_Final_2022-06-18.csv | size: 159.89MB\n",
      "Added Oakland_Final_2022-06-18.csv | size: 6.04MB\n",
      "Added OklahomaCity_Final_2022-06-18.csv | size: 2.51MB\n",
      "Added Ontario_Final_2022-06-18.csv | size: 11.36MB\n",
      "Added Orlando_Final_2022-06-18.csv | size: 10.78MB\n",
      "Added OverlandPark_Final_2022-06-18.csv | size: 10.09MB\n",
      "Added Phoenix_Final_2022-06-18.csv | size: 0.04MB\n",
      "Added Pittsburgh_Final_2022-06-18.csv | size: 10.27MB\n",
      "Added Plano_Final_2022-06-18.csv | size: 4.87MB\n",
      "Added Portland_Final_2022-06-18.csv | size: 47.35MB\n",
      "Added Providence_Final_2022-06-18.csv | size: 4.42MB\n",
      "Added RanchoCucamonga_Final_2022-06-18.csv | size: 15.25MB\n",
      "Added Richmond_Final_2022-06-18.csv | size: 0.55MB\n",
      "Added Rochester_Final_2022-06-18.csv | size: 12.08MB\n",
      "Added Sacramento_Final_2022-06-18.csv | size: 17.41MB\n",
      "Added SanDiego_Final_2022-06-18.csv | size: 35.87MB\n",
      "Added SanFrancisco_Final_2022-06-18.csv | size: 39.42MB\n",
      "Added SanJose_Final_2022-06-18.csv | size: 78.28MB\n",
      "Added SantaRosa_Final_2022-06-18.csv | size: 0.68MB\n",
      "Added Seattle_Final_2022-06-18.csv | size: 37.09MB\n",
      "Added SiouxFalls_Final_2022-06-18.csv | size: 16.18MB\n",
      "Added StLouis_Final_2022-06-18.csv | size: 15.39MB\n",
      "Added Stockton_Final_2022-06-18.csv | size: 19.24MB\n",
      "Added Tampa_Final_2022-06-18.csv | size: 6.16MB\n",
      "Added WashingtonDC_Final_2022-06-18.csv | size: 48.25MB\n",
      "Added Worcester_Final_2022-06-18.csv | size: 2.59MB\n",
      "\n",
      "Total valid CSV files: 63\n",
      "\n"
     ]
    }
   ],
   "source": [
    "# Extract 'valid' csv files\n",
    "\n",
    "files_list = sorted([file for file in os.listdir(FILEPATH) if file.endswith('.csv')])\n",
    "print(f'Total files: {len(files_list)}\\n')\n",
    "\n",
    "csv_files = []\n",
    "\n",
    "for file in files_list:\n",
    "    file_path = os.path.join(FILEPATH, file)\n",
    "    size = os.path.getsize(file_path) / 1024\n",
    "    \n",
    "    if os.path.relpath(file).endswith('.csv') and size > 10:\n",
    "        csv_files.append(file_path)\n",
    "        size /= 1024\n",
    "        print(f'Added {file} | size: {round(size, 2)}MB')\n",
    "        \n",
    "print(f'\\nTotal valid CSV files: {len(csv_files)}\\n')"
   ]
  },
  {
   "cell_type": "code",
   "execution_count": 4,
   "id": "aefa770d-dcf0-4a3e-8ede-1b124d970ec8",
   "metadata": {},
   "outputs": [
    {
     "name": "stdout",
     "output_type": "stream",
     "text": [
      " Aurora CO\n",
      " Grand Rapids\n",
      " USA\n",
      " The USA\n"
     ]
    }
   ],
   "source": [
    "def separate_caps(text):\n",
    "    \"\"\"Inserts spaces between uppercase letters in a string, unless they're consecutive.\n",
    "\n",
    "    Args:\n",
    "        text: The string to separate.\n",
    "\n",
    "    Returns:\n",
    "        A new string with spaces inserted between uppercase letters.\n",
    "    \"\"\"\n",
    "    result = []\n",
    "    prev_was_upper = False\n",
    "    \n",
    "    for char in text:\n",
    "        if char.isupper():\n",
    "            if not prev_was_upper:\n",
    "                result.append(\" \")\n",
    "            result.append(char)\n",
    "            prev_was_upper = True\n",
    "        else:\n",
    "            result.append(char)\n",
    "            prev_was_upper = False\n",
    "    return \"\".join(result)\n",
    "\n",
    "\n",
    "# Test cases\n",
    "print(separate_caps(\"AuroraCO\"))  # Output: Aurora CO\n",
    "print(separate_caps(\"GrandRapids\"))  # Output: Grand Rapids\n",
    "print(separate_caps(\"USA\"))  # Output: USA\n",
    "print(separate_caps(\"TheUSA\"))  # Output: The USA"
   ]
  },
  {
   "cell_type": "markdown",
   "id": "1865f0ba",
   "metadata": {},
   "source": [
    "## Feature Engineering\n",
    "\n",
    "This will add the elevation feature, and it involves two steps:\n",
    " 1. getting coordinates of a city by name\n",
    " 2. getting the elevation in meters using the city coordinates."
   ]
  },
  {
   "cell_type": "markdown",
   "id": "0de30b0a",
   "metadata": {},
   "source": [
    "Get coordinates of city"
   ]
  },
  {
   "cell_type": "code",
   "execution_count": 8,
   "id": "e9277115",
   "metadata": {},
   "outputs": [
    {
     "name": "stdout",
     "output_type": "stream",
     "text": [
      "The coordinates of AuroraCO are: (43.6963371, -98.5722461)\n"
     ]
    }
   ],
   "source": [
    "# !pip install geopy joblib\n",
    "from geopy.geocoders import Nominatim\n",
    "from geopy.exc import GeocoderTimedOut, GeocoderServiceError\n",
    "from joblib import Memory\n",
    "import sys \n",
    "sys.path.append('../')\n",
    "import city_mapper\n",
    "\n",
    "\n",
    "location = './cachedirLoc'\n",
    "memory = Memory(location, verbose=0)\n",
    "\n",
    "# city_mapper.get_city_coordinates(separate_caps(city_query))\n",
    "\n",
    "# Example usage\n",
    "test_city = \"AuroraCO\"\n",
    "coordinates = city_mapper.get_city_coordinates(separate_caps(test_city))\n",
    "\n",
    "if coordinates:\n",
    "    print(f\"The coordinates of {test_city} are: {coordinates}\")\n",
    "else:\n",
    "    print(f\"Could not find coordinates for {test_city}\")"
   ]
  },
  {
   "cell_type": "markdown",
   "id": "933f488b",
   "metadata": {},
   "source": [
    "Get city eleveation sample"
   ]
  },
  {
   "cell_type": "code",
   "execution_count": 12,
   "id": "95cdc3d6",
   "metadata": {},
   "outputs": [
    {
     "name": "stdout",
     "output_type": "stream",
     "text": [
      "elevation of AuroraCO (m): 480.0\n"
     ]
    }
   ],
   "source": [
    "\n",
    "# test\n",
    "x1, y1 = city_mapper.get_city_coordinates(separate_caps(test_city))\n",
    "print(f'elevation of {test_city} (m): {city_mapper.get_elevation(x1, y1)}')"
   ]
  },
  {
   "cell_type": "markdown",
   "id": "c4f2a07a",
   "metadata": {},
   "source": [
    "Engineering th e elevation feature"
   ]
  },
  {
   "cell_type": "code",
   "execution_count": 13,
   "id": "72a78450",
   "metadata": {},
   "outputs": [
    {
     "name": "stdout",
     "output_type": "stream",
     "text": [
      "Going over file:  Albuquerque\n",
      "Going over file:  Anaheim\n",
      "Going over file:  Arlington\n",
      "Going over file:  Atlanta\n",
      "Going over file:  AuroraCO\n",
      "Going over file:  Austin\n",
      "Going over file:  Baltimore\n",
      "Going over file:  Boston\n",
      "Going over file:  Buffalo\n",
      "Going over file:  CapeCoral\n",
      "Going over file:  ColoradoSprings\n",
      "Going over file:  Columbus\n",
      "Going over file:  Dallas\n",
      "Going over file:  Denver\n",
      "Going over file:  DesMoines\n",
      "Going over file:  Detroit\n",
      "Going over file:  Durham\n",
      "Going over file:  Fresno\n",
      "Going over file:  GardenGrove\n",
      "Going over file:  GrandRapids\n",
      "Going over file:  Greensboro\n",
      "Going over file:  Honolulu\n",
      "Going over file:  Houston\n",
      "Going over file:  HuntingtonBeach\n",
      "Going over file:  Indianapolis\n",
      "Going over file:  Irvine\n",
      "Going over file:  Jerseycity\n",
      "Going over file:  Knoxville\n",
      "Going over file:  LasVegas\n",
      "Going over file:  LosAngeles\n",
      "Going over file:  Louisville\n",
      "Going over file:  Madison\n",
      "Going over file:  Miami\n",
      "Going over file:  Milwaukee\n",
      "Going over file:  Minneapolis\n",
      "Going over file:  Nashville\n",
      "Going over file:  NewOrleans\n",
      "Going over file:  NewYork\n",
      "Going over file:  Oakland\n",
      "Going over file:  OklahomaCity\n",
      "Going over file:  Ontario\n",
      "Going over file:  Orlando\n",
      "Going over file:  OverlandPark\n",
      "Going over file:  Phoenix\n",
      "Going over file:  Pittsburgh\n",
      "Going over file:  Plano\n",
      "Going over file:  Portland\n",
      "Going over file:  Providence\n",
      "Going over file:  RanchoCucamonga\n",
      "Going over file:  Richmond\n",
      "Going over file:  Rochester\n",
      "Going over file:  Sacramento\n",
      "Going over file:  SanDiego\n",
      "Going over file:  SanFrancisco\n",
      "Going over file:  SanJose\n",
      "Going over file:  SantaRosa\n",
      "Going over file:  Seattle\n",
      "Going over file:  SiouxFalls\n",
      "Going over file:  StLouis\n",
      "Going over file:  Stockton\n",
      "Going over file:  Tampa\n",
      "Going over file:  WashingtonDC\n",
      "Going over file:  Worcester\n"
     ]
    }
   ],
   "source": [
    "import csv\n",
    "\n",
    "\n",
    "for file in csv_files:  # list of 63 city csv file paths\n",
    "    name = file.split(\"_\")[0].split(\"/\")[-1]\n",
    "    # print(name)\n",
    "    # path = os.path.join(FILEPATH, file)\n",
    "\n",
    "    # Check if 'elevation' already exists in the header\n",
    "    already_elevation = False\n",
    "\n",
    "    with open(file, \"r\") as f:\n",
    "        for line in f:\n",
    "            if \"elevation\" in line.lower():  # Case-insensitive search\n",
    "                already_elevation = True\n",
    "                break\n",
    "    if already_elevation:\n",
    "        print(file, \"Already contains elevation data. Skipping now.\")\n",
    "        continue\n",
    "\n",
    "    # We calculate the elevation for the city\n",
    "    x, y = city_mapper.get_city_coordinates(name)\n",
    "    this_elevation = city_mapper.get_elevation(x, y)\n",
    "\n",
    "    print(\"Going over file: \", name)\n",
    "    path = os.path.join(FILEPATH, file)\n",
    "    if name == \"RanchoCucamonga\":\n",
    "        this_elevation = 368  # Doesn't work with OpenStreetMap for whatever reason\n",
    "\n",
    "    with open(file, \"r\") as f:\n",
    "        reader = csv.reader(f, delimiter=\",\")\n",
    "        lines = list(reader)\n",
    "\n",
    "        # Add the new 'elevation' field to the header\n",
    "        lines[0].append(\"elevation\")\n",
    "\n",
    "        # Add the default elevation value to each row\n",
    "        for row in lines[1:]:\n",
    "            row.append(this_elevation)\n",
    "\n",
    "        # Write the updated content back to the file\n",
    "    with open(file, \"w\", newline=\"\") as f:\n",
    "        writer = csv.writer(f, delimiter=\",\")\n",
    "        writer.writerows(lines)"
   ]
  },
  {
   "cell_type": "code",
   "execution_count": 14,
   "id": "8ecb5e7d-1c7c-4acb-a6b6-d69fe79ceb25",
   "metadata": {},
   "outputs": [
    {
     "name": "stdout",
     "output_type": "stream",
     "text": [
      "dataframe_0 Albuquerque added. shape: (2533, 29)\n",
      "dataframe_1 Anaheim added. shape: (79651, 29)\n",
      "dataframe_2 Arlington added. shape: (14827, 29)\n",
      "dataframe_3 Atlanta added. shape: (41307, 29)\n",
      "dataframe_4 AuroraCO added. shape: (57658, 29)\n",
      "dataframe_5 Austin added. shape: (7295, 29)\n",
      "dataframe_6 Baltimore added. shape: (121296, 29)\n",
      "dataframe_7 Boston added. shape: (1333, 29)\n",
      "dataframe_8 Buffalo added. shape: (132995, 29)\n",
      "dataframe_9 CapeCoral added. shape: (34287, 29)\n",
      "dataframe_10 ColoradoSprings added. shape: (25478, 29)\n",
      "dataframe_11 Columbus added. shape: (151937, 29)\n",
      "dataframe_12 Dallas added. shape: (6218, 29)\n",
      "dataframe_13 Denver added. shape: (284739, 29)\n",
      "dataframe_14 DesMoines added. shape: (16875, 29)\n",
      "dataframe_15 Detroit added. shape: (20963, 29)\n",
      "dataframe_16 Durham added. shape: (16030, 29)\n",
      "dataframe_17 Fresno added. shape: (6980, 29)\n",
      "dataframe_18 GardenGrove added. shape: (17522, 29)\n",
      "dataframe_19 GrandRapids added. shape: (84361, 29)\n",
      "dataframe_20 Greensboro added. shape: (6589, 29)\n",
      "dataframe_21 Honolulu added. shape: (15440, 29)\n",
      "dataframe_22 Houston added. shape: (215139, 29)\n",
      "dataframe_23 HuntingtonBeach added. shape: (55828, 29)\n",
      "dataframe_24 Indianapolis added. shape: (98942, 29)\n",
      "dataframe_25 Irvine added. shape: (58364, 29)\n",
      "dataframe_26 Jerseycity added. shape: (774, 29)\n",
      "dataframe_27 Knoxville added. shape: (10000, 29)\n",
      "dataframe_28 LasVegas added. shape: (39193, 29)\n",
      "dataframe_29 LosAngeles added. shape: (720140, 29)\n",
      "dataframe_30 Louisville added. shape: (32711, 29)\n",
      "dataframe_31 Madison added. shape: (96042, 29)\n",
      "dataframe_32 Miami added. shape: (732, 29)\n",
      "dataframe_33 Milwaukee added. shape: (32260, 29)\n",
      "dataframe_34 Minneapolis added. shape: (190766, 29)\n",
      "dataframe_35 Nashville added. shape: (2059, 29)\n",
      "dataframe_36 NewOrleans added. shape: (105813, 29)\n",
      "dataframe_37 NewYork added. shape: (683788, 29)\n",
      "dataframe_38 Oakland added. shape: (38613, 29)\n",
      "dataframe_39 OklahomaCity added. shape: (10000, 29)\n",
      "dataframe_40 Ontario added. shape: (58577, 29)\n",
      "dataframe_41 Orlando added. shape: (68211, 29)\n",
      "dataframe_42 OverlandPark added. shape: (45148, 29)\n",
      "dataframe_43 Phoenix added. shape: (214, 29)\n",
      "dataframe_44 Pittsburgh added. shape: (45703, 29)\n",
      "dataframe_45 Plano added. shape: (28375, 29)\n",
      "dataframe_46 Portland added. shape: (218602, 29)\n",
      "dataframe_47 Providence added. shape: (24525, 29)\n",
      "dataframe_48 RanchoCucamonga added. shape: (82947, 29)\n",
      "dataframe_49 Richmond added. shape: (3272, 29)\n",
      "dataframe_50 Rochester added. shape: (64056, 29)\n",
      "dataframe_51 Sacramento added. shape: (87191, 29)\n",
      "dataframe_52 SanDiego added. shape: (212304, 29)\n",
      "dataframe_53 SanFrancisco added. shape: (188462, 29)\n",
      "dataframe_54 SanJose added. shape: (347669, 29)\n",
      "dataframe_55 SantaRosa added. shape: (3016, 29)\n",
      "dataframe_56 Seattle added. shape: (165623, 29)\n",
      "dataframe_57 SiouxFalls added. shape: (63024, 29)\n",
      "dataframe_58 StLouis added. shape: (83594, 29)\n",
      "dataframe_59 Stockton added. shape: (98300, 29)\n",
      "dataframe_60 Tampa added. shape: (25501, 29)\n",
      "dataframe_61 WashingtonDC added. shape: (190991, 29)\n",
      "dataframe_62 Worcester added. shape: (17454, 29)\n",
      "\n",
      "\n",
      "Total rows: 5660237\n"
     ]
    }
   ],
   "source": [
    "import pandas as pd\n",
    "\n",
    "total_rows = 0\n",
    "df_count = -1\n",
    "data_list = []\n",
    "\n",
    "for file in csv_files:\n",
    "    data = pd.read_csv(file, encoding='latin-1', on_bad_lines='skip', low_memory=False)\n",
    "    df_name = file.split('_')[0].split('/')[-1]\n",
    "    columns = data.columns.sort_values()\n",
    "    data = data[columns]\n",
    "    # if data.shape[1] >= 29:\n",
    "    data_list.append(data)\n",
    "    df_count += 1\n",
    "    print(f'dataframe_{df_count} {df_name} added. shape: {data.shape}')\n",
    "    total_rows += data.shape[0]\n",
    "\n",
    "print('\\n\\nTotal rows:', total_rows)"
   ]
  },
  {
   "cell_type": "code",
   "execution_count": 15,
   "id": "1bc2a833",
   "metadata": {},
   "outputs": [
    {
     "data": {
      "text/plain": [
       "Index(['address', 'city', 'city_ID', 'common_name', 'condition',\n",
       "       'diameter_breast_height_CM', 'diameter_breast_height_binned_CM',\n",
       "       'district', 'elevation', 'greater_metro', 'height_M', 'height_binned_M',\n",
       "       'latitude_coordinate', 'location_name', 'location_type',\n",
       "       'longitude_coordinate', 'most_recent_observation',\n",
       "       'most_recent_observation_type', 'native', 'neighborhood',\n",
       "       'overhead_utility', 'percent_population', 'planted_date',\n",
       "       'retired_date', 'scientific_name', 'state', 'tree_ID', 'ward',\n",
       "       'zipcode'],\n",
       "      dtype='object')"
      ]
     },
     "execution_count": 15,
     "metadata": {},
     "output_type": "execute_result"
    }
   ],
   "source": [
    "data_list[0].columns"
   ]
  },
  {
   "cell_type": "code",
   "execution_count": 16,
   "id": "c104b4f9",
   "metadata": {},
   "outputs": [
    {
     "name": "stdout",
     "output_type": "stream",
     "text": [
      "Summary:\n",
      "Files with matching columns: 62\n",
      "Files with different columns: 0\n"
     ]
    }
   ],
   "source": [
    "from typing import List\n",
    "\n",
    "def compare_columns(data_list: List[pd.DataFrame]):\n",
    "    \"\"\"\n",
    "    Compare the column names of multiple pandas DataFrames.\n",
    "\n",
    "    Parameters:\n",
    "        data_list (List[pd.DataFrame]) - A list of pandas DataFrames to compare.\n",
    "\n",
    "    Returns:\n",
    "        List[Tuple[int, bool]] - A list of tuples where each tuple contains the index \\\n",
    "                            of the DataFrame and a boolean indicating whether \\\n",
    "                            its columns match the columns of the first DataFrame.\n",
    "    \"\"\"\n",
    "    reference_columns = data_list[0].columns\n",
    "    results = []\n",
    "\n",
    "    for i in range(1, len(data_list)):\n",
    "        is_equal = data_list[i].columns.equals(reference_columns)\n",
    "        results.append((i, is_equal))\n",
    "        \n",
    "        if not is_equal:\n",
    "            print(f\"File {i} has different columns than the first file.\")\n",
    "            print(\"Columns in first file:\", reference_columns.tolist())\n",
    "            print(f\"Columns in file {i}:\", data_list[i].columns.tolist())\n",
    "            print(\"Differences:\")\n",
    "            print(\"In first file but not in this file:\", set(reference_columns) - set(data_list[i].columns))\n",
    "            print(f\"In file {i} but not in first file:\", set(data_list[i].columns) - set(reference_columns))\n",
    "            print(\"\\n\")\n",
    "\n",
    "    return results\n",
    "\n",
    "# Assuming data_list is your list of 65 dataframes\n",
    "results = compare_columns(data_list)\n",
    "\n",
    "# Summary\n",
    "print(\"Summary:\")\n",
    "print(\"Files with matching columns:\", sum(1 for _, is_equal in results if is_equal))\n",
    "print(\"Files with different columns:\", sum(1 for _, is_equal in results if not is_equal))"
   ]
  },
  {
   "cell_type": "markdown",
   "id": "cb446db5",
   "metadata": {},
   "source": [
    "## Import CSV list to DataFrame"
   ]
  },
  {
   "cell_type": "code",
   "execution_count": 17,
   "id": "bfa73ec7",
   "metadata": {},
   "outputs": [
    {
     "data": {
      "text/html": [
       "<div>\n",
       "<style scoped>\n",
       "    .dataframe tbody tr th:only-of-type {\n",
       "        vertical-align: middle;\n",
       "    }\n",
       "\n",
       "    .dataframe tbody tr th {\n",
       "        vertical-align: top;\n",
       "    }\n",
       "\n",
       "    .dataframe thead th {\n",
       "        text-align: right;\n",
       "    }\n",
       "</style>\n",
       "<table border=\"1\" class=\"dataframe\">\n",
       "  <thead>\n",
       "    <tr style=\"text-align: right;\">\n",
       "      <th></th>\n",
       "      <th>address</th>\n",
       "      <th>city</th>\n",
       "      <th>city_ID</th>\n",
       "      <th>common_name</th>\n",
       "      <th>condition</th>\n",
       "      <th>diameter_breast_height_CM</th>\n",
       "      <th>diameter_breast_height_binned_CM</th>\n",
       "      <th>district</th>\n",
       "      <th>elevation</th>\n",
       "      <th>greater_metro</th>\n",
       "      <th>...</th>\n",
       "      <th>neighborhood</th>\n",
       "      <th>overhead_utility</th>\n",
       "      <th>percent_population</th>\n",
       "      <th>planted_date</th>\n",
       "      <th>retired_date</th>\n",
       "      <th>scientific_name</th>\n",
       "      <th>state</th>\n",
       "      <th>tree_ID</th>\n",
       "      <th>ward</th>\n",
       "      <th>zipcode</th>\n",
       "    </tr>\n",
       "  </thead>\n",
       "  <tbody>\n",
       "    <tr>\n",
       "      <th>0</th>\n",
       "      <td>NaN</td>\n",
       "      <td>Albuquerque</td>\n",
       "      <td>NaN</td>\n",
       "      <td>Locust</td>\n",
       "      <td>dead/dying</td>\n",
       "      <td>NaN</td>\n",
       "      <td>NaN</td>\n",
       "      <td>NaN</td>\n",
       "      <td>1513.0</td>\n",
       "      <td>Albuquerque</td>\n",
       "      <td>...</td>\n",
       "      <td>NaN</td>\n",
       "      <td>NaN</td>\n",
       "      <td>NaN</td>\n",
       "      <td>NaN</td>\n",
       "      <td>NaN</td>\n",
       "      <td>NaN</td>\n",
       "      <td>New Mexico</td>\n",
       "      <td>NaN</td>\n",
       "      <td>NaN</td>\n",
       "      <td>NaN</td>\n",
       "    </tr>\n",
       "    <tr>\n",
       "      <th>1</th>\n",
       "      <td>1641 Tierra Del Rio Northwest</td>\n",
       "      <td>Albuquerque</td>\n",
       "      <td>NaN</td>\n",
       "      <td>Oak</td>\n",
       "      <td>NaN</td>\n",
       "      <td>NaN</td>\n",
       "      <td>NaN</td>\n",
       "      <td>NaN</td>\n",
       "      <td>1513.0</td>\n",
       "      <td>Albuquerque</td>\n",
       "      <td>...</td>\n",
       "      <td>NaN</td>\n",
       "      <td>NaN</td>\n",
       "      <td>NaN</td>\n",
       "      <td>NaN</td>\n",
       "      <td>NaN</td>\n",
       "      <td>Quercus</td>\n",
       "      <td>New Mexico</td>\n",
       "      <td>NaN</td>\n",
       "      <td>NaN</td>\n",
       "      <td>NaN</td>\n",
       "    </tr>\n",
       "    <tr>\n",
       "      <th>2</th>\n",
       "      <td>Us Veterans Hospital Loop</td>\n",
       "      <td>Albuquerque</td>\n",
       "      <td>NaN</td>\n",
       "      <td>Ash</td>\n",
       "      <td>dead/dying</td>\n",
       "      <td>NaN</td>\n",
       "      <td>NaN</td>\n",
       "      <td>NaN</td>\n",
       "      <td>1513.0</td>\n",
       "      <td>Albuquerque</td>\n",
       "      <td>...</td>\n",
       "      <td>NaN</td>\n",
       "      <td>NaN</td>\n",
       "      <td>NaN</td>\n",
       "      <td>NaN</td>\n",
       "      <td>NaN</td>\n",
       "      <td>Fraxinus</td>\n",
       "      <td>New Mexico</td>\n",
       "      <td>NaN</td>\n",
       "      <td>NaN</td>\n",
       "      <td>NaN</td>\n",
       "    </tr>\n",
       "    <tr>\n",
       "      <th>3</th>\n",
       "      <td>1606 San Pedro Drive Southeast</td>\n",
       "      <td>Albuquerque</td>\n",
       "      <td>NaN</td>\n",
       "      <td>Scotch pine</td>\n",
       "      <td>dead/dying</td>\n",
       "      <td>NaN</td>\n",
       "      <td>NaN</td>\n",
       "      <td>NaN</td>\n",
       "      <td>1513.0</td>\n",
       "      <td>Albuquerque</td>\n",
       "      <td>...</td>\n",
       "      <td>NaN</td>\n",
       "      <td>NaN</td>\n",
       "      <td>NaN</td>\n",
       "      <td>NaN</td>\n",
       "      <td>NaN</td>\n",
       "      <td>Pinus sylvestris</td>\n",
       "      <td>New Mexico</td>\n",
       "      <td>NaN</td>\n",
       "      <td>NaN</td>\n",
       "      <td>NaN</td>\n",
       "    </tr>\n",
       "    <tr>\n",
       "      <th>4</th>\n",
       "      <td>5700 Bogart Street Northwest</td>\n",
       "      <td>Albuquerque</td>\n",
       "      <td>NaN</td>\n",
       "      <td>Honeylocust</td>\n",
       "      <td>good</td>\n",
       "      <td>NaN</td>\n",
       "      <td>NaN</td>\n",
       "      <td>NaN</td>\n",
       "      <td>1513.0</td>\n",
       "      <td>Albuquerque</td>\n",
       "      <td>...</td>\n",
       "      <td>NaN</td>\n",
       "      <td>NaN</td>\n",
       "      <td>NaN</td>\n",
       "      <td>NaN</td>\n",
       "      <td>NaN</td>\n",
       "      <td>Gleditsia triacanthos</td>\n",
       "      <td>New Mexico</td>\n",
       "      <td>NaN</td>\n",
       "      <td>NaN</td>\n",
       "      <td>NaN</td>\n",
       "    </tr>\n",
       "    <tr>\n",
       "      <th>...</th>\n",
       "      <td>...</td>\n",
       "      <td>...</td>\n",
       "      <td>...</td>\n",
       "      <td>...</td>\n",
       "      <td>...</td>\n",
       "      <td>...</td>\n",
       "      <td>...</td>\n",
       "      <td>...</td>\n",
       "      <td>...</td>\n",
       "      <td>...</td>\n",
       "      <td>...</td>\n",
       "      <td>...</td>\n",
       "      <td>...</td>\n",
       "      <td>...</td>\n",
       "      <td>...</td>\n",
       "      <td>...</td>\n",
       "      <td>...</td>\n",
       "      <td>...</td>\n",
       "      <td>...</td>\n",
       "      <td>...</td>\n",
       "      <td>...</td>\n",
       "    </tr>\n",
       "    <tr>\n",
       "      <th>17449</th>\n",
       "      <td>NaN</td>\n",
       "      <td>Worcester</td>\n",
       "      <td>NaN</td>\n",
       "      <td>NaN</td>\n",
       "      <td>NaN</td>\n",
       "      <td>NaN</td>\n",
       "      <td>15.24 to 30.48 cm</td>\n",
       "      <td>NaN</td>\n",
       "      <td>156.0</td>\n",
       "      <td>Worcester</td>\n",
       "      <td>...</td>\n",
       "      <td>NaN</td>\n",
       "      <td>NaN</td>\n",
       "      <td>NaN</td>\n",
       "      <td>NaN</td>\n",
       "      <td>NaN</td>\n",
       "      <td>Zelkova serrata</td>\n",
       "      <td>Massachusetts</td>\n",
       "      <td>NaN</td>\n",
       "      <td>NaN</td>\n",
       "      <td>NaN</td>\n",
       "    </tr>\n",
       "    <tr>\n",
       "      <th>17450</th>\n",
       "      <td>NaN</td>\n",
       "      <td>Worcester</td>\n",
       "      <td>NaN</td>\n",
       "      <td>NaN</td>\n",
       "      <td>NaN</td>\n",
       "      <td>NaN</td>\n",
       "      <td>15.24 to 30.48 cm</td>\n",
       "      <td>NaN</td>\n",
       "      <td>156.0</td>\n",
       "      <td>Worcester</td>\n",
       "      <td>...</td>\n",
       "      <td>NaN</td>\n",
       "      <td>NaN</td>\n",
       "      <td>NaN</td>\n",
       "      <td>NaN</td>\n",
       "      <td>NaN</td>\n",
       "      <td>Zelkova serrata</td>\n",
       "      <td>Massachusetts</td>\n",
       "      <td>NaN</td>\n",
       "      <td>NaN</td>\n",
       "      <td>NaN</td>\n",
       "    </tr>\n",
       "    <tr>\n",
       "      <th>17451</th>\n",
       "      <td>NaN</td>\n",
       "      <td>Worcester</td>\n",
       "      <td>NaN</td>\n",
       "      <td>NaN</td>\n",
       "      <td>NaN</td>\n",
       "      <td>NaN</td>\n",
       "      <td>15.24 to 30.48 cm</td>\n",
       "      <td>NaN</td>\n",
       "      <td>156.0</td>\n",
       "      <td>Worcester</td>\n",
       "      <td>...</td>\n",
       "      <td>NaN</td>\n",
       "      <td>NaN</td>\n",
       "      <td>NaN</td>\n",
       "      <td>NaN</td>\n",
       "      <td>NaN</td>\n",
       "      <td>Zelkova serrata</td>\n",
       "      <td>Massachusetts</td>\n",
       "      <td>NaN</td>\n",
       "      <td>NaN</td>\n",
       "      <td>NaN</td>\n",
       "    </tr>\n",
       "    <tr>\n",
       "      <th>17452</th>\n",
       "      <td>NaN</td>\n",
       "      <td>Worcester</td>\n",
       "      <td>NaN</td>\n",
       "      <td>NaN</td>\n",
       "      <td>NaN</td>\n",
       "      <td>NaN</td>\n",
       "      <td>15.24 to 30.48 cm</td>\n",
       "      <td>NaN</td>\n",
       "      <td>156.0</td>\n",
       "      <td>Worcester</td>\n",
       "      <td>...</td>\n",
       "      <td>NaN</td>\n",
       "      <td>NaN</td>\n",
       "      <td>NaN</td>\n",
       "      <td>NaN</td>\n",
       "      <td>NaN</td>\n",
       "      <td>Zelkova serrata</td>\n",
       "      <td>Massachusetts</td>\n",
       "      <td>NaN</td>\n",
       "      <td>NaN</td>\n",
       "      <td>NaN</td>\n",
       "    </tr>\n",
       "    <tr>\n",
       "      <th>17453</th>\n",
       "      <td>NaN</td>\n",
       "      <td>Worcester</td>\n",
       "      <td>NaN</td>\n",
       "      <td>NaN</td>\n",
       "      <td>NaN</td>\n",
       "      <td>NaN</td>\n",
       "      <td>15.24 to 30.48 cm</td>\n",
       "      <td>NaN</td>\n",
       "      <td>156.0</td>\n",
       "      <td>Worcester</td>\n",
       "      <td>...</td>\n",
       "      <td>NaN</td>\n",
       "      <td>NaN</td>\n",
       "      <td>NaN</td>\n",
       "      <td>NaN</td>\n",
       "      <td>NaN</td>\n",
       "      <td>Zelkova serrata</td>\n",
       "      <td>Massachusetts</td>\n",
       "      <td>NaN</td>\n",
       "      <td>NaN</td>\n",
       "      <td>NaN</td>\n",
       "    </tr>\n",
       "  </tbody>\n",
       "</table>\n",
       "<p>5660237 rows × 29 columns</p>\n",
       "</div>"
      ],
      "text/plain": [
       "                              address         city city_ID  common_name  \\\n",
       "0                                 NaN  Albuquerque     NaN       Locust   \n",
       "1       1641 Tierra Del Rio Northwest  Albuquerque     NaN          Oak   \n",
       "2           Us Veterans Hospital Loop  Albuquerque     NaN          Ash   \n",
       "3      1606 San Pedro Drive Southeast  Albuquerque     NaN  Scotch pine   \n",
       "4        5700 Bogart Street Northwest  Albuquerque     NaN  Honeylocust   \n",
       "...                               ...          ...     ...          ...   \n",
       "17449                             NaN    Worcester     NaN          NaN   \n",
       "17450                             NaN    Worcester     NaN          NaN   \n",
       "17451                             NaN    Worcester     NaN          NaN   \n",
       "17452                             NaN    Worcester     NaN          NaN   \n",
       "17453                             NaN    Worcester     NaN          NaN   \n",
       "\n",
       "        condition  diameter_breast_height_CM diameter_breast_height_binned_CM  \\\n",
       "0      dead/dying                        NaN                              NaN   \n",
       "1             NaN                        NaN                              NaN   \n",
       "2      dead/dying                        NaN                              NaN   \n",
       "3      dead/dying                        NaN                              NaN   \n",
       "4            good                        NaN                              NaN   \n",
       "...           ...                        ...                              ...   \n",
       "17449         NaN                        NaN                15.24 to 30.48 cm   \n",
       "17450         NaN                        NaN                15.24 to 30.48 cm   \n",
       "17451         NaN                        NaN                15.24 to 30.48 cm   \n",
       "17452         NaN                        NaN                15.24 to 30.48 cm   \n",
       "17453         NaN                        NaN                15.24 to 30.48 cm   \n",
       "\n",
       "      district  elevation greater_metro  ...  neighborhood overhead_utility  \\\n",
       "0          NaN     1513.0   Albuquerque  ...           NaN              NaN   \n",
       "1          NaN     1513.0   Albuquerque  ...           NaN              NaN   \n",
       "2          NaN     1513.0   Albuquerque  ...           NaN              NaN   \n",
       "3          NaN     1513.0   Albuquerque  ...           NaN              NaN   \n",
       "4          NaN     1513.0   Albuquerque  ...           NaN              NaN   \n",
       "...        ...        ...           ...  ...           ...              ...   \n",
       "17449      NaN      156.0     Worcester  ...           NaN              NaN   \n",
       "17450      NaN      156.0     Worcester  ...           NaN              NaN   \n",
       "17451      NaN      156.0     Worcester  ...           NaN              NaN   \n",
       "17452      NaN      156.0     Worcester  ...           NaN              NaN   \n",
       "17453      NaN      156.0     Worcester  ...           NaN              NaN   \n",
       "\n",
       "       percent_population planted_date retired_date        scientific_name  \\\n",
       "0                     NaN          NaN          NaN                    NaN   \n",
       "1                     NaN          NaN          NaN                Quercus   \n",
       "2                     NaN          NaN          NaN               Fraxinus   \n",
       "3                     NaN          NaN          NaN       Pinus sylvestris   \n",
       "4                     NaN          NaN          NaN  Gleditsia triacanthos   \n",
       "...                   ...          ...          ...                    ...   \n",
       "17449                 NaN          NaN          NaN        Zelkova serrata   \n",
       "17450                 NaN          NaN          NaN        Zelkova serrata   \n",
       "17451                 NaN          NaN          NaN        Zelkova serrata   \n",
       "17452                 NaN          NaN          NaN        Zelkova serrata   \n",
       "17453                 NaN          NaN          NaN        Zelkova serrata   \n",
       "\n",
       "               state tree_ID ward zipcode  \n",
       "0         New Mexico     NaN  NaN     NaN  \n",
       "1         New Mexico     NaN  NaN     NaN  \n",
       "2         New Mexico     NaN  NaN     NaN  \n",
       "3         New Mexico     NaN  NaN     NaN  \n",
       "4         New Mexico     NaN  NaN     NaN  \n",
       "...              ...     ...  ...     ...  \n",
       "17449  Massachusetts     NaN  NaN     NaN  \n",
       "17450  Massachusetts     NaN  NaN     NaN  \n",
       "17451  Massachusetts     NaN  NaN     NaN  \n",
       "17452  Massachusetts     NaN  NaN     NaN  \n",
       "17453  Massachusetts     NaN  NaN     NaN  \n",
       "\n",
       "[5660237 rows x 29 columns]"
      ]
     },
     "execution_count": 17,
     "metadata": {},
     "output_type": "execute_result"
    }
   ],
   "source": [
    "raw_data = pd.concat(data_list)\n",
    "raw_data"
   ]
  },
  {
   "cell_type": "markdown",
   "id": "9116e522",
   "metadata": {},
   "source": [
    "### Some EDAs"
   ]
  },
  {
   "cell_type": "markdown",
   "id": "98e4472b",
   "metadata": {},
   "source": [
    "Missing values"
   ]
  },
  {
   "cell_type": "code",
   "execution_count": 11,
   "id": "61f3e954",
   "metadata": {},
   "outputs": [
    {
     "data": {
      "text/plain": [
       "address                             1254392\n",
       "city                                   1899\n",
       "city_ID                             2017770\n",
       "common_name                          892786\n",
       "condition                           3038500\n",
       "diameter_breast_height_CM           2785979\n",
       "diameter_breast_height_binned_CM    1574755\n",
       "district                            5509706\n",
       "elevation                             32260\n",
       "greater_metro                             0\n",
       "height_M                            4951094\n",
       "height_binned_M                     4996887\n",
       "latitude_coordinate                  751578\n",
       "location_name                       5310350\n",
       "location_type                       3469760\n",
       "longitude_coordinate                 751709\n",
       "most_recent_observation             2127842\n",
       "most_recent_observation_type        3198777\n",
       "native                                    0\n",
       "neighborhood                        5132935\n",
       "overhead_utility                    5017235\n",
       "percent_population                  5660237\n",
       "planted_date                        5213598\n",
       "retired_date                        5658047\n",
       "scientific_name                      529298\n",
       "state                                    31\n",
       "tree_ID                             5660237\n",
       "ward                                5384826\n",
       "zipcode                             4770156\n",
       "dtype: int64"
      ]
     },
     "execution_count": 11,
     "metadata": {},
     "output_type": "execute_result"
    }
   ],
   "source": [
    "raw_data.isna().sum()"
   ]
  },
  {
   "cell_type": "code",
   "execution_count": 12,
   "id": "660d9bf6",
   "metadata": {},
   "outputs": [
    {
     "data": {
      "text/html": [
       "<div>\n",
       "<style scoped>\n",
       "    .dataframe tbody tr th:only-of-type {\n",
       "        vertical-align: middle;\n",
       "    }\n",
       "\n",
       "    .dataframe tbody tr th {\n",
       "        vertical-align: top;\n",
       "    }\n",
       "\n",
       "    .dataframe thead th {\n",
       "        text-align: right;\n",
       "    }\n",
       "</style>\n",
       "<table border=\"1\" class=\"dataframe\">\n",
       "  <thead>\n",
       "    <tr style=\"text-align: right;\">\n",
       "      <th></th>\n",
       "      <th>latitude_coordinate</th>\n",
       "      <th>longitude_coordinate</th>\n",
       "      <th>city</th>\n",
       "    </tr>\n",
       "  </thead>\n",
       "  <tbody>\n",
       "    <tr>\n",
       "      <th>24290</th>\n",
       "      <td>NaN</td>\n",
       "      <td>NaN</td>\n",
       "      <td>Plano</td>\n",
       "    </tr>\n",
       "    <tr>\n",
       "      <th>12724</th>\n",
       "      <td>38.919626</td>\n",
       "      <td>-94.741226</td>\n",
       "      <td>Overland Park</td>\n",
       "    </tr>\n",
       "    <tr>\n",
       "      <th>10083</th>\n",
       "      <td>43.133729</td>\n",
       "      <td>-77.629921</td>\n",
       "      <td>Rochester</td>\n",
       "    </tr>\n",
       "    <tr>\n",
       "      <th>11229</th>\n",
       "      <td>33.785589</td>\n",
       "      <td>-118.035498</td>\n",
       "      <td>Garden Grove</td>\n",
       "    </tr>\n",
       "    <tr>\n",
       "      <th>101796</th>\n",
       "      <td>40.680124</td>\n",
       "      <td>-73.945997</td>\n",
       "      <td>New York</td>\n",
       "    </tr>\n",
       "    <tr>\n",
       "      <th>105991</th>\n",
       "      <td>42.854641</td>\n",
       "      <td>-78.811432</td>\n",
       "      <td>Buffalo</td>\n",
       "    </tr>\n",
       "    <tr>\n",
       "      <th>34013</th>\n",
       "      <td>39.675176</td>\n",
       "      <td>-104.906258</td>\n",
       "      <td>Denver</td>\n",
       "    </tr>\n",
       "    <tr>\n",
       "      <th>668481</th>\n",
       "      <td>40.748336</td>\n",
       "      <td>-73.890865</td>\n",
       "      <td>New York</td>\n",
       "    </tr>\n",
       "    <tr>\n",
       "      <th>71893</th>\n",
       "      <td>NaN</td>\n",
       "      <td>NaN</td>\n",
       "      <td>Grand Rapids</td>\n",
       "    </tr>\n",
       "    <tr>\n",
       "      <th>201363</th>\n",
       "      <td>NaN</td>\n",
       "      <td>NaN</td>\n",
       "      <td>Los Angeles</td>\n",
       "    </tr>\n",
       "  </tbody>\n",
       "</table>\n",
       "</div>"
      ],
      "text/plain": [
       "        latitude_coordinate  longitude_coordinate           city\n",
       "24290                   NaN                   NaN          Plano\n",
       "12724             38.919626            -94.741226  Overland Park\n",
       "10083             43.133729            -77.629921      Rochester\n",
       "11229             33.785589           -118.035498   Garden Grove\n",
       "101796            40.680124            -73.945997       New York\n",
       "105991            42.854641            -78.811432        Buffalo\n",
       "34013             39.675176           -104.906258         Denver\n",
       "668481            40.748336            -73.890865       New York\n",
       "71893                   NaN                   NaN   Grand Rapids\n",
       "201363                  NaN                   NaN    Los Angeles"
      ]
     },
     "execution_count": 12,
     "metadata": {},
     "output_type": "execute_result"
    }
   ],
   "source": [
    "raw_data[['latitude_coordinate','longitude_coordinate', 'city']].sample(10)"
   ]
  },
  {
   "cell_type": "code",
   "execution_count": 13,
   "id": "200056b9",
   "metadata": {},
   "outputs": [
    {
     "data": {
      "text/plain": [
       "city\n",
       "Los Angeles    720140\n",
       "New York       683788\n",
       "San Jose       347669\n",
       "Denver         284739\n",
       "Portland       218602\n",
       "                ...  \n",
       "Muskego             2\n",
       "Wind Lake           1\n",
       "Lutz                1\n",
       "Heeia               1\n",
       "Aiea                1\n",
       "Name: count, Length: 146, dtype: int64"
      ]
     },
     "execution_count": 13,
     "metadata": {},
     "output_type": "execute_result"
    }
   ],
   "source": [
    "raw_data['city'].value_counts()"
   ]
  },
  {
   "cell_type": "code",
   "execution_count": 14,
   "id": "c032be14",
   "metadata": {},
   "outputs": [
    {
     "data": {
      "image/png": "[encoded data removed]",
      "text/plain": [
       "<Figure size 640x480 with 1 Axes>"
      ]
     },
     "metadata": {},
     "output_type": "display_data"
    }
   ],
   "source": [
    "raw_data['state'].value_counts().sort_values().plot(kind='barh', title='City Counts');\n"
   ]
  },
  {
   "cell_type": "code",
   "execution_count": 15,
   "id": "03403599",
   "metadata": {},
   "outputs": [
    {
     "data": {
      "text/plain": [
       "Index(['address', 'city', 'city_ID', 'common_name', 'condition',\n",
       "       'diameter_breast_height_CM', 'diameter_breast_height_binned_CM',\n",
       "       'district', 'elevation', 'greater_metro', 'height_M', 'height_binned_M',\n",
       "       'latitude_coordinate', 'location_name', 'location_type',\n",
       "       'longitude_coordinate', 'most_recent_observation',\n",
       "       'most_recent_observation_type', 'native', 'neighborhood',\n",
       "       'overhead_utility', 'percent_population', 'planted_date',\n",
       "       'retired_date', 'scientific_name', 'state', 'tree_ID', 'ward',\n",
       "       'zipcode'],\n",
       "      dtype='object')"
      ]
     },
     "execution_count": 15,
     "metadata": {},
     "output_type": "execute_result"
    }
   ],
   "source": [
    "raw_data.columns"
   ]
  },
  {
   "cell_type": "markdown",
   "id": "7e0c931f",
   "metadata": {},
   "source": [
    "Select needed features. They have lots of missing values anyways"
   ]
  },
  {
   "cell_type": "code",
   "execution_count": 16,
   "id": "7312e3df",
   "metadata": {},
   "outputs": [
    {
     "name": "stdout",
     "output_type": "stream",
     "text": [
      "Missings per feature\n"
     ]
    },
    {
     "data": {
      "text/plain": [
       "city                               1899\n",
       "common_name                      892786\n",
       "condition                       3038500\n",
       "diameter_breast_height_CM       2785979\n",
       "greater_metro                         0\n",
       "elevation                         32260\n",
       "latitude_coordinate              751578\n",
       "longitude_coordinate             751709\n",
       "most_recent_observation         2127842\n",
       "most_recent_observation_type    3198777\n",
       "native                                0\n",
       "state                                31\n",
       "height_M                        4951094\n",
       "dtype: int64"
      ]
     },
     "execution_count": 16,
     "metadata": {},
     "output_type": "execute_result"
    }
   ],
   "source": [
    "features_to_drop = ['address', 'diameter_breast_height_binned_CM', 'district', 'city_ID',\n",
    "                    'height_binned_M','latitude_coordinate', 'location_name', 'location_type',\n",
    "                    'longitude_coordinate','neighborhood', 'overhead_utility', 'percent_population',\n",
    "                    'planted_date', 'retired_date', 'scientific_name', 'tree_ID', 'ward', 'zipcode']\n",
    "\n",
    "selected_features = ['city', 'common_name', 'condition', 'diameter_breast_height_CM', 'greater_metro', 'elevation', 'latitude_coordinate', 'longitude_coordinate',\n",
    "                     'most_recent_observation', 'most_recent_observation_type', 'native', 'state', 'height_M']\n",
    "\n",
    "print('Missings per feature')\n",
    "raw_data[selected_features].isna().sum()"
   ]
  },
  {
   "cell_type": "markdown",
   "id": "e801ede1",
   "metadata": {},
   "source": [
    "drop the features"
   ]
  },
  {
   "cell_type": "code",
   "execution_count": 17,
   "id": "f931e8cb",
   "metadata": {},
   "outputs": [
    {
     "data": {
      "text/plain": [
       "(5660237, 13)"
      ]
     },
     "execution_count": 17,
     "metadata": {},
     "output_type": "execute_result"
    }
   ],
   "source": [
    "data_with_missings = raw_data[selected_features]\n",
    "data_with_missings.shape"
   ]
  },
  {
   "cell_type": "code",
   "execution_count": 18,
   "id": "b029c473",
   "metadata": {},
   "outputs": [
    {
     "name": "stdout",
     "output_type": "stream",
     "text": [
      "missing per feature\n"
     ]
    },
    {
     "data": {
      "text/plain": [
       "city                               1899\n",
       "common_name                      892786\n",
       "condition                       3038500\n",
       "diameter_breast_height_CM       2785979\n",
       "greater_metro                         0\n",
       "elevation                         32260\n",
       "latitude_coordinate              751578\n",
       "longitude_coordinate             751709\n",
       "most_recent_observation         2127842\n",
       "most_recent_observation_type    3198777\n",
       "native                                0\n",
       "state                                31\n",
       "height_M                        4951094\n",
       "dtype: int64"
      ]
     },
     "execution_count": 18,
     "metadata": {},
     "output_type": "execute_result"
    }
   ],
   "source": [
    "print('missing per feature')\n",
    "data_with_missings.isna().sum()"
   ]
  },
  {
   "cell_type": "markdown",
   "id": "70b7c4f8",
   "metadata": {},
   "source": [
    "The above feature's missing values will be replaced by the most frequent values or median values per city.\n",
    "\n",
    "The date features, `most_recent_observation` and ` most_recent_observation_type` will be treated separately."
   ]
  },
  {
   "cell_type": "code",
   "execution_count": 19,
   "id": "c51f06e0",
   "metadata": {},
   "outputs": [
    {
     "data": {
      "text/html": [
       "<div>\n",
       "<style scoped>\n",
       "    .dataframe tbody tr th:only-of-type {\n",
       "        vertical-align: middle;\n",
       "    }\n",
       "\n",
       "    .dataframe tbody tr th {\n",
       "        vertical-align: top;\n",
       "    }\n",
       "\n",
       "    .dataframe thead th {\n",
       "        text-align: right;\n",
       "    }\n",
       "</style>\n",
       "<table border=\"1\" class=\"dataframe\">\n",
       "  <thead>\n",
       "    <tr style=\"text-align: right;\">\n",
       "      <th></th>\n",
       "      <th>city</th>\n",
       "      <th>state</th>\n",
       "    </tr>\n",
       "  </thead>\n",
       "  <tbody>\n",
       "    <tr>\n",
       "      <th>62297</th>\n",
       "      <td>Orlando</td>\n",
       "      <td>Florida</td>\n",
       "    </tr>\n",
       "    <tr>\n",
       "      <th>54143</th>\n",
       "      <td>Minneapolis</td>\n",
       "      <td>Minnesota</td>\n",
       "    </tr>\n",
       "    <tr>\n",
       "      <th>28206</th>\n",
       "      <td>Sacramento</td>\n",
       "      <td>California</td>\n",
       "    </tr>\n",
       "    <tr>\n",
       "      <th>34069</th>\n",
       "      <td>New York</td>\n",
       "      <td>New York</td>\n",
       "    </tr>\n",
       "    <tr>\n",
       "      <th>22172</th>\n",
       "      <td>Washington DC</td>\n",
       "      <td>District of Columbia</td>\n",
       "    </tr>\n",
       "    <tr>\n",
       "      <th>105254</th>\n",
       "      <td>Washington DC</td>\n",
       "      <td>District of Columbia</td>\n",
       "    </tr>\n",
       "    <tr>\n",
       "      <th>146207</th>\n",
       "      <td>San Francisco</td>\n",
       "      <td>California</td>\n",
       "    </tr>\n",
       "    <tr>\n",
       "      <th>21479</th>\n",
       "      <td>Cape Coral</td>\n",
       "      <td>Florida</td>\n",
       "    </tr>\n",
       "    <tr>\n",
       "      <th>269993</th>\n",
       "      <td>Los Angeles</td>\n",
       "      <td>California</td>\n",
       "    </tr>\n",
       "    <tr>\n",
       "      <th>102711</th>\n",
       "      <td>Minneapolis</td>\n",
       "      <td>Minnesota</td>\n",
       "    </tr>\n",
       "    <tr>\n",
       "      <th>3547</th>\n",
       "      <td>Stockton</td>\n",
       "      <td>California</td>\n",
       "    </tr>\n",
       "    <tr>\n",
       "      <th>114055</th>\n",
       "      <td>San Francisco</td>\n",
       "      <td>California</td>\n",
       "    </tr>\n",
       "    <tr>\n",
       "      <th>51516</th>\n",
       "      <td>Washington DC</td>\n",
       "      <td>District of Columbia</td>\n",
       "    </tr>\n",
       "    <tr>\n",
       "      <th>233201</th>\n",
       "      <td>Denver</td>\n",
       "      <td>Colorado</td>\n",
       "    </tr>\n",
       "    <tr>\n",
       "      <th>20314</th>\n",
       "      <td>Portland</td>\n",
       "      <td>Oregon</td>\n",
       "    </tr>\n",
       "  </tbody>\n",
       "</table>\n",
       "</div>"
      ],
      "text/plain": [
       "                 city                 state\n",
       "62297         Orlando               Florida\n",
       "54143     Minneapolis             Minnesota\n",
       "28206      Sacramento            California\n",
       "34069        New York              New York\n",
       "22172   Washington DC  District of Columbia\n",
       "105254  Washington DC  District of Columbia\n",
       "146207  San Francisco            California\n",
       "21479      Cape Coral               Florida\n",
       "269993    Los Angeles            California\n",
       "102711    Minneapolis             Minnesota\n",
       "3547         Stockton            California\n",
       "114055  San Francisco            California\n",
       "51516   Washington DC  District of Columbia\n",
       "233201         Denver              Colorado\n",
       "20314        Portland                Oregon"
      ]
     },
     "execution_count": 19,
     "metadata": {},
     "output_type": "execute_result"
    }
   ],
   "source": [
    "data_with_missings[['city', 'state']].sample(15)"
   ]
  },
  {
   "cell_type": "markdown",
   "id": "3c64f2d8",
   "metadata": {},
   "source": [
    "Use coordinates to replace missing cities"
   ]
  },
  {
   "cell_type": "code",
   "execution_count": 21,
   "id": "d96a101e",
   "metadata": {},
   "outputs": [],
   "source": [
    "import sys\n",
    "sys.path.append('../')\n",
    "from tqdm import tqdm\n",
    "from joblib import Memory\n",
    "from city_mapper import get_city_name\n",
    "\n",
    "memory = Memory('./cachedir', verbose=0)\n",
    "\n",
    "@memory.cache\n",
    "def cache_city_name(lat: float, lon: float):\n",
    "    return get_city_name(lat, lon)\n",
    "\n",
    "for index, row in tqdm(data_with_missings[data_with_missings['city'].isna()].iterrows(), total=data_with_missings['city'].isna().sum()):\n",
    "    lat, lon = row['latitude_coordinate'], row['longitude_coordinate']\n",
    "    if pd.notna(lat) and pd.notna(lon):\n",
    "        data_with_missings.at[index, 'city'] = cache_city_name(lat, lon)\n",
    "    else:\n",
    "        data_with_missings.at[index, 'city'] = pd.NA"
   ]
  },
  {
   "cell_type": "code",
   "execution_count": null,
   "id": "5d145597",
   "metadata": {},
   "outputs": [],
   "source": [
    "get_city_name()"
   ]
  },
  {
   "cell_type": "code",
   "execution_count": 28,
   "id": "4bf3bda4",
   "metadata": {},
   "outputs": [
    {
     "data": {
      "text/plain": [
       "78       Unknown\n",
       "270      Unknown\n",
       "538      Unknown\n",
       "568      Unknown\n",
       "746      Unknown\n",
       "          ...   \n",
       "17274    Unknown\n",
       "17275    Unknown\n",
       "17276    Unknown\n",
       "17277    Unknown\n",
       "17278    Unknown\n",
       "Name: city, Length: 3484, dtype: object"
      ]
     },
     "execution_count": 28,
     "metadata": {},
     "output_type": "execute_result"
    }
   ],
   "source": [
    "data_with_missings['city'][data_with_missings['city']=='Unknown']\n",
    "# data_with_missings['city'].unique()"
   ]
  },
  {
   "cell_type": "code",
   "execution_count": 275,
   "id": "19cb2c83",
   "metadata": {},
   "outputs": [
    {
     "name": "stdout",
     "output_type": "stream",
     "text": [
      "<class 'pandas.core.frame.DataFrame'>\n",
      "Index: 5660237 entries, 0 to 17453\n",
      "Data columns (total 11 columns):\n",
      " #   Column                        Dtype  \n",
      "---  ------                        -----  \n",
      " 0   city                          object \n",
      " 1   common_name                   object \n",
      " 2   condition                     object \n",
      " 3   diameter_breast_height_CM     float64\n",
      " 4   greater_metro                 object \n",
      " 5   elevation                     float64\n",
      " 6   most_recent_observation       object \n",
      " 7   most_recent_observation_type  object \n",
      " 8   native                        object \n",
      " 9   state                         object \n",
      " 10  height_M                      float64\n",
      "dtypes: float64(3), object(8)\n",
      "memory usage: 518.2+ MB\n"
     ]
    }
   ],
   "source": [
    "data_with_missings.info()"
   ]
  },
  {
   "cell_type": "markdown",
   "id": "a2ad9375",
   "metadata": {},
   "source": [
    "Replace missings in state by mapping city to state"
   ]
  },
  {
   "cell_type": "code",
   "execution_count": 276,
   "id": "012fc2a8",
   "metadata": {},
   "outputs": [
    {
     "name": "stdout",
     "output_type": "stream",
     "text": [
      "Before replacing missing values in state: 31 missing values.\n",
      "After replacing missing values in state: 31 missing values.\n"
     ]
    },
    {
     "name": "stderr",
     "output_type": "stream",
     "text": [
      "/var/folders/88/yyywxk6s0czcp29w6d5_st6c0000gn/T/ipykernel_73004/383839987.py:11: SettingWithCopyWarning: \n",
      "A value is trying to be set on a copy of a slice from a DataFrame.\n",
      "Try using .loc[row_indexer,col_indexer] = value instead\n",
      "\n",
      "See the caveats in the documentation: https://pandas.pydata.org/pandas-docs/stable/user_guide/indexing.html#returning-a-view-versus-a-copy\n",
      "  data_with_missings['state'] = data_with_missings['state'].fillna(data_with_missings['city'].map(city_state_mapping))\n"
     ]
    }
   ],
   "source": [
    "\n",
    "def replace_state_by_mapping():\n",
    "    \n",
    "    print(f\"Before replacing missing values in state: {data_with_missings['state'].isnull().sum()} missing values.\")\n",
    "    \n",
    "    # Create a mapping of city to the most frequent state\n",
    "    city_state_mapping = (data_with_missings.groupby('city')['state']\n",
    "                          .agg(lambda x: x.mode()[0] if not x.mode().empty else None)\n",
    "                          ).to_dict()\n",
    "    \n",
    "    # Replace missing values in 'state' using the mapping\n",
    "    data_with_missings['state'] = data_with_missings['state'].fillna(data_with_missings['city'].map(city_state_mapping))\n",
    "    \n",
    "    print(f\"After replacing missing values in state: {data_with_missings['state'].isnull().sum()} missing values.\")\n",
    "    \n",
    "    return data_with_missings\n",
    "\n",
    "# Replace missing values in the 'state' column based on the mapping from city values\n",
    "data = replace_state_by_mapping()"
   ]
  },
  {
   "cell_type": "code",
   "execution_count": 277,
   "id": "7fb290c7",
   "metadata": {},
   "outputs": [
    {
     "data": {
      "text/plain": [
       "city                               1899\n",
       "common_name                      892786\n",
       "condition                       3038500\n",
       "diameter_breast_height_CM       2785979\n",
       "greater_metro                         0\n",
       "elevation                        498053\n",
       "most_recent_observation         2127842\n",
       "most_recent_observation_type    3198777\n",
       "native                                0\n",
       "state                                31\n",
       "height_M                        4951094\n",
       "dtype: int64"
      ]
     },
     "execution_count": 277,
     "metadata": {},
     "output_type": "execute_result"
    }
   ],
   "source": [
    "data.isna().sum()"
   ]
  },
  {
   "cell_type": "code",
   "execution_count": 157,
   "id": "48643136",
   "metadata": {},
   "outputs": [
    {
     "name": "stdout",
     "output_type": "stream",
     "text": [
      "common_name: ['American (basswood) linden' 'Quaking aspen' 'Silver maple' ...\n",
      " 'Chicagolnd hkbry' 'Oakmongolian' 'Ashflowering']\n",
      "\n",
      "\n",
      "condition: [nan 'good' 'poor' 'fair' 'dead' 'excellent' 'dead/dying' ' ']\n",
      "\n",
      "\n",
      "diameter_breast_height_CM: [   nan  58.42  68.58 ...  83.   150.     0.5 ]\n",
      "\n",
      "\n",
      "state: ['Wisconsin' 'California' 'Texas' 'New York' 'Florida' 'Washington'\n",
      " 'Colorado' 'Massachusetts' 'Michigan' 'Maryland' 'New Mexico' nan\n",
      " 'North Carolina' 'Oklahoma' 'Tennessee' 'Missouri' 'Nevada' 'Arizona'\n",
      " 'Minnesota' 'Indiana' 'Louisiana' 'Ohio' 'Hawaii' 'Virginia' 'New Jersey'\n",
      " 'Oregon' 'Rhode Island' 'Georgia' 'Pennsylvania' 'Kentucky' 'Kansas'\n",
      " 'Iowa' 'District of Columbia' 'South Dakota']\n",
      "\n",
      "\n"
     ]
    }
   ],
   "source": [
    "missing_features = ['common_name', 'condition', 'diameter_breast_height_CM']\n",
    "missing_dates = ['most_recent_observation', 'most_recent_observation_type']\n",
    "\n",
    "for feature in missing_features:\n",
    "    print(f'{feature}: {data_with_missings[feature].unique()}\\n\\n')"
   ]
  },
  {
   "cell_type": "code",
   "execution_count": 154,
   "id": "d9c524bb",
   "metadata": {},
   "outputs": [
    {
     "name": "stdout",
     "output_type": "stream",
     "text": [
      "Before replacing missing values in common_name: 776776 missing values.\n",
      "After replacing missing values in common_name: 776776 missing values.\n",
      "\n",
      "Before replacing missing values in condition: 2398488 missing values.\n",
      "After replacing missing values in condition: 2398488 missing values.\n",
      "\n",
      "Before replacing missing values in diameter_breast_height_CM: 2701522 missing values.\n",
      "After replacing missing values in diameter_breast_height_CM: 2701522 missing values.\n",
      "\n",
      "Before replacing missing values in state: 1899 missing values.\n",
      "After replacing missing values in state: 1899 missing values.\n",
      "\n"
     ]
    }
   ],
   "source": [
    "\n",
    "# from sklearn.impute import SimpleImputer\n",
    "\n",
    "# def replace_missings(df, feature):\n",
    "#     print(f\"Before replacing missing values in {feature}: {df[feature].isnull().sum()} missing values.\")\n",
    "    \n",
    "#     if df[feature].dtype in ['int64', 'float64']:\n",
    "#         imputer = SimpleImputer(strategy='median')\n",
    "#     else:\n",
    "#         imputer = SimpleImputer(strategy='most_frequent')\n",
    "        \n",
    "#     impute_group = lambda x: x if x.isnull().all() else imputer.fit_transform(x.values.reshape(-1, 1)).ravel()\n",
    "    \n",
    "#     # Group by city and apply the imputer\n",
    "#     df[feature] = df.groupby('city')[feature].transform(impute_group)\n",
    "    \n",
    "#     print(f\"After replacing missing values in {feature}: {df[feature].isnull().sum()} missing values.\\n\")\n",
    "    \n",
    "#     return df\n",
    "\n",
    "\n",
    "# # Replace missing values for each feature in the list\n",
    "# for feature in missing_features:\n",
    "#     data = replace_missings(data_with_missings, feature)\n"
   ]
  }
 ],
 "metadata": {
  "kernelspec": {
   "display_name": "base",
   "language": "python",
   "name": "python3"
  },
  "language_info": {
   "codemirror_mode": {
    "name": "ipython",
    "version": 3
   },
   "file_extension": ".py",
   "mimetype": "text/x-python",
   "name": "python",
   "nbconvert_exporter": "python",
   "pygments_lexer": "ipython3",
   "version": "3.12.2"
  }
 },
 "nbformat": 4,
 "nbformat_minor": 5
}
